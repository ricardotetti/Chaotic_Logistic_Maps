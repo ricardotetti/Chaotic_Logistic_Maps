{
 "cells": [
  {
   "cell_type": "code",
   "execution_count": 1,
   "id": "8d0d5552",
   "metadata": {},
   "outputs": [],
   "source": [
    "import numpy as np\n",
    "import matplotlib.pyplot as plt\n",
    "import pandas as pd\n",
    "import networkx as nx\n",
    "import random\n",
    "import scipy as sp"
   ]
  },
  {
   "cell_type": "code",
   "execution_count": 37,
   "id": "bdfe51fc",
   "metadata": {},
   "outputs": [],
   "source": [
    "class Logistic:\n",
    "#     def __init__(self, epsilon = 0.5, t_0 = int(0), T = int(100), a = 2.5, n_nodes = None,\n",
    "#                  av_degree = 8, x0 = 1.3, tau_zero = int(1), type_of_graph = 1):\n",
    "    def __init__(self, epsilon = 0.5, t_0 = int(0), T = int(100), a = 2.5,\n",
    "                     x0 = 1.3, tau_zero = int(1), n_nodes = None, graph = None):\n",
    "        '''\n",
    "        PARAMETERS:\n",
    "        epsilon: float\n",
    "        t_0: float\n",
    "        T:float\n",
    "           Total time of simulated activity\n",
    "        n_nodes: int\n",
    "            Number of logistic maps\n",
    "        av_degree: int\n",
    "            Average degree of the graph\n",
    "        x0: float\n",
    "            Initial state of the logistic map\n",
    "        tau_zero: int\n",
    "            Delay parameter\n",
    "        type_of_graph: int\n",
    "            If 1, then the graph will follow the Barabasi-Albert\n",
    "            model. If it's another number it will be Small-World.\n",
    "        '''\n",
    "        if n_nodes is None:\n",
    "            raise ValueError(\"n_nodes must be specified\")\n",
    "        else:\n",
    "            self.n_nodes = n_nodes\n",
    "        self.epsilon = epsilon\n",
    "        self.t_0 = t_0\n",
    "        self.T = T\n",
    "#         self.av_degree = av_degree\n",
    "        self.x0 = [x0]\n",
    "        self.tau_zero = tau_zero\n",
    "#         self.type_of_graph = type_of_graph\n",
    "        self.a = a\n",
    "        if graph is None:\n",
    "            raise ValueError(\"graph must be specified\")\n",
    "        else:\n",
    "            self.G = graph\n",
    "        \n",
    "    def logistic(self, x):\n",
    "        return x*self.a*(1-x)\n",
    "    \n",
    "#     def generate_graph(self):\n",
    "#         if self.type_of_graph == 1:\n",
    "#             m = int(self.av_degree/2) \n",
    "#             self.G = nx.barabasi_albert_graph(self.n_nodes,m) \n",
    "#         else: \n",
    "#             k = int(self.av_degree/2)\n",
    "#             p = 1 #probability of rewiring\n",
    "#             self.G = nx.watts_strogatz_graph(self.n_nodes, k, p, seed=None)\n",
    "#         return self.G\n",
    "    \n",
    "    def adjacency_matrix(self):\n",
    "        self.M = nx.to_numpy_array(self.G)\n",
    "        return self.M\n",
    "    \n",
    "    def calculate_b(self,index):\n",
    "        return np.sum(self.M[index])\n",
    "    \n",
    "    def Tau_matrix(self):\n",
    "        self.tau_matrix = []\n",
    "        for i in range(0,self.n_nodes):\n",
    "            tau = []\n",
    "            for j in range(0,self.n_nodes):\n",
    "                tau.append(int(self.tau_zero + np.random.uniform(0,1)))\n",
    "            self.tau_matrix.append(tau)\n",
    "        return self.tau_matrix\n",
    "    \n",
    "    def interation(self):\n",
    "        self.M = self.adjacency_matrix()\n",
    "        self.tau_matrix = self.Tau_matrix()\n",
    "        self.mapas = {}\n",
    "        for i in range(0,self.n_nodes):\n",
    "            self.mapas[i] = [(np.random.uniform(0,1))] #Definindo os valores iniciais dos mapas    \n",
    "\n",
    "        for t in range(1,self.T): #Percorre nos intervalos de tempo\n",
    "            for i in range(0,self.n_nodes): #Percorre em todos os nós\n",
    "                x_T = (1-self.epsilon)*self.logistic(self.mapas[i][t-1])\n",
    "                soma = []\n",
    "                for j in range(0,self.n_nodes): #Calcula o somatorio pra cada um dos nós\n",
    "                    tau = self.tau_matrix[i][j]\n",
    "                    soma.append((self.epsilon/self.calculate_b(i))*self.M[i][j]*\n",
    "                                self.logistic(self.mapas[j][t-tau])) \n",
    "                x_T = x_T + np.sum(soma)\n",
    "#                 print(soma)\n",
    "                self.mapas[i].append(x_T)\n",
    "#             print(x_T)\n",
    "        return self.mapas\n",
    "        \n",
    "    def run(self):\n",
    "        return self.interation()\n",
    "    \n",
    "    def Sigma(self):\n",
    "        space_mean = []\n",
    "        for i in range(self.n_nodes): #Calculando a media espacial \n",
    "            space_mean.append(self.mapas[i][self.T-1])\n",
    "        space_mean = np.mean(space_mean)\n",
    "        sigma = []\n",
    "        for i in range(n_nodes): #Somatorio \n",
    "            k = (self.mapas[i][self.T-1]-space_mean)**2\n",
    "            sigma.append(k)\n",
    "        sigma = sum(sigma)\n",
    "        return (1/self.n_nodes)*(sigma/self.T) #Retorna a média temporal do somatorio divido por n_nodes\n",
    "    \n",
    "    def Sigma_line(self):\n",
    "        sigma_line = []\n",
    "        for i in range(n_nodes):\n",
    "            k = (self.mapas[i][self.T-1]- self.mapas[i][0])**2\n",
    "            sigma_line.append(k)\n",
    "        sigma_line = sum(sigma_line)\n",
    "        return (1/self.n_nodes)*(sigma_line/self.T)"
   ]
  },
  {
   "cell_type": "code",
   "execution_count": 3,
   "id": "ef4112a7",
   "metadata": {},
   "outputs": [],
   "source": [
    "# matrix_sigmas = []\n",
    "# matrix_sigmas_line = []\n",
    "# for i in range(20,2,-1):\n",
    "#     list_sigmas = []\n",
    "#     list_sigmas_line = []\n",
    "#     for j in range(0,100):\n",
    "#         T = 20\n",
    "#         n_nodes = 200\n",
    "#         log = Logistic(epsilon = 0.01*j, T = T, a = 4, n_nodes = n_nodes, av_degree = i, tau_zero = 1, type_of_graph=1)\n",
    "#         mapas = log.run()\n",
    "#         list_sigmas.append(log.Sigma())\n",
    "#         list_sigmas_line.append(log.Sigma_line())\n",
    "#     matrix_sigmas.append(list_sigmas)\n",
    "#     matrix_sigmas_line.append(list_sigmas_line)"
   ]
  },
  {
   "cell_type": "code",
   "execution_count": 7,
   "id": "574324e6",
   "metadata": {},
   "outputs": [],
   "source": [
    "# n_nodes = 200\n",
    "# T = 10\n",
    "# log = Logistic(epsilon = 0.5, T = T, a = 4, n_nodes = n_nodes, av_degree = 5, tau_zero = 1, type_of_graph=1)\n",
    "# mapas = log.run()"
   ]
  },
  {
   "cell_type": "code",
   "execution_count": 8,
   "id": "672c88db",
   "metadata": {},
   "outputs": [],
   "source": [
    "# epsilon_values = np.linspace(0,1,100)\n",
    "# b_values = np.linspace(2,19,18)\n",
    "# CS = plt.contourf(epsilon_values,b_values,matrix_sigmas, cmap = \"inferno\") #O eixo y ta trocado, é pra ser de 20 ate 2 \n",
    "#                                                                            #e nao de 2 ate 20.\n",
    "# cbar = plt.colorbar(CS)\n",
    "# plt.xlabel(r\"$\\varepsilon$\", fontsize = 14)\n",
    "# plt.ylabel(r'$\\langle b \\rangle$', fontsize = 14)\n",
    "# plt.savefig('barabasi_albert.png', dpi = 150, bbox_inches = 'tight')\n",
    "# plt.show()"
   ]
  },
  {
   "cell_type": "code",
   "execution_count": 56,
   "id": "d567176d",
   "metadata": {},
   "outputs": [
    {
     "data": {
      "image/png": "[encoded data removed]",
      "text/plain": [
       "<Figure size 720x432 with 1 Axes>"
      ]
     },
     "metadata": {},
     "output_type": "display_data"
    }
   ],
   "source": [
    "N = 120\n",
    "tau1 = 2\n",
    "tau2 = 1.5\n",
    "mu = 0.02\n",
    "k = 15\n",
    "minc = 20\n",
    "maxc = 20\n",
    "G = nx.LFR_benchmark_graph(n = N, tau1 = tau1, tau2 = tau2, mu = mu, min_degree = k, \n",
    "                        max_degree = k, min_community=minc, max_community = maxc, seed = 10)\n",
    "G.remove_edges_from(nx.selfloop_edges(G))\n",
    "pos=nx.spring_layout(G)\n",
    "fig= plt.figure(figsize=(10,6))\n",
    "nx.draw(G, pos=pos, node_color = 'lightblue', with_labels = True)\n",
    "plt.show(True)"
   ]
  },
  {
   "cell_type": "code",
   "execution_count": 64,
   "id": "30c00445",
   "metadata": {},
   "outputs": [],
   "source": [
    "N = 7500  #Number of nodes in the created graph.\n",
    "gam = 3  #Power law exponent for the degree distribution of the created graph\n",
    "bet = 2 #Power law exponent for the community size distribution in the created graph\n",
    "mu = 0.3 #Fraction of inter-community edges incident to each node\n",
    "G = nx.LFR_benchmark_graph(N, tau1=gam, tau2=bet, mu=mu, average_degree=5,max_degree=80,\n",
    "                     min_community=5,max_community=180)"
   ]
  },
  {
   "cell_type": "code",
   "execution_count": 65,
   "id": "df517257",
   "metadata": {},
   "outputs": [],
   "source": [
    "T = 10\n",
    "n_nodes = N\n",
    "log = Logistic(epsilon = 0.5, T = T, a = 4, n_nodes = n_nodes, tau_zero = 1, graph = G)"
   ]
  },
  {
   "cell_type": "code",
   "execution_count": 66,
   "id": "022b0368",
   "metadata": {},
   "outputs": [],
   "source": [
    "mapas = log.run()"
   ]
  },
  {
   "cell_type": "code",
   "execution_count": 67,
   "id": "f43d5916",
   "metadata": {},
   "outputs": [
    {
     "data": {
      "text/plain": [
       "0.0060286199256754745"
      ]
     },
     "execution_count": 67,
     "metadata": {},
     "output_type": "execute_result"
    }
   ],
   "source": [
    "sigmas = log.Sigma()\n",
    "sigmas"
   ]
  }
 ],
 "metadata": {
  "kernelspec": {
   "display_name": "Python 3 (ipykernel)",
   "language": "python",
   "name": "python3"
  },
  "language_info": {
   "codemirror_mode": {
    "name": "ipython",
    "version": 3
   },
   "file_extension": ".py",
   "mimetype": "text/x-python",
   "name": "python",
   "nbconvert_exporter": "python",
   "pygments_lexer": "ipython3",
   "version": "3.9.12"
  }
 },
 "nbformat": 4,
 "nbformat_minor": 5
}
