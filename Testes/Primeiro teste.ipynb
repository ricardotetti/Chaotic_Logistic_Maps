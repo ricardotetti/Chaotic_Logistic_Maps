{
 "cells": [
  {
   "cell_type": "code",
   "execution_count": 1,
   "id": "4ee73f5a",
   "metadata": {},
   "outputs": [],
   "source": [
    "import numpy as np\n",
    "import matplotlib.pyplot as plt\n",
    "import pandas as pd\n",
    "import networkx as nx\n",
    "import igraph as ig\n",
    "import random\n",
    "import scipy as sp"
   ]
  },
  {
   "cell_type": "code",
   "execution_count": 2,
   "id": "8f0dc343",
   "metadata": {},
   "outputs": [],
   "source": [
    "# Network parameters\n",
    "N = 500 #number of nodes\n",
    "av_degree = 8 # average degree\n",
    "p = float(av_degree)/float(N) #probability of connection in the ER model\n",
    "m = int(av_degree/2) # number of nodes included at each time step in the BA model\n",
    "kappa = av_degree # number of neighbors in the WS model\n",
    "\n",
    "G = nx.barabasi_albert_graph(N,m) # generate a BA network"
   ]
  },
  {
   "cell_type": "code",
   "execution_count": 3,
   "id": "90e08519",
   "metadata": {},
   "outputs": [
    {
     "name": "stdout",
     "output_type": "stream",
     "text": [
      "Number of nodes: 500\n",
      "Average degree:  7.936\n"
     ]
    }
   ],
   "source": [
    "N = len(G) # Number of nodes\n",
    "vk = dict(G.degree())\n",
    "vk = list(vk.values())\n",
    "print(\"Number of nodes:\", N)\n",
    "print(\"Average degree: \", np.mean(vk))"
   ]
  },
  {
   "cell_type": "code",
   "execution_count": 4,
   "id": "9988ccba",
   "metadata": {},
   "outputs": [],
   "source": [
    "# function to simulate the SIR dynamics starting from a set of nodes stored in the variable \"seed\"\n",
    "def SIR(G, seeds, beta=0.3, mu=1):    \n",
    "    def find(v, i): # function to find the positions of element i in vector v\n",
    "        l = []\n",
    "        pos = 0\n",
    "        for x in v:\n",
    "            if(x == i):\n",
    "                l.append(pos)\n",
    "            pos = pos + 1\n",
    "        return l\n",
    "\n",
    "    #Reactive process: SIR dynamics\n",
    "    vector_states = np.zeros(N) # vector that stores the states of the vertices\n",
    "    vector_states[seeds] = 1 # vector that stores the states\n",
    "    ninfected = len(seeds)\n",
    "    t = 0 # start in t= 0 \n",
    "    vt = list() # this list stores the time step\n",
    "    vI = list() # this list stores the fraction of infected nodes\n",
    "    vR = list() # this list stores the fraction of recovered nodes\n",
    "    vS = list() # this list stores the fraction of susceptible nodes\n",
    "    # Reactive model simulation\n",
    "    while ninfected > 0: # Simulate while we can find infected nodes\n",
    "        infected = find(vector_states,1) # list of infected nodes\n",
    "        for i in infected: # try to infect the neighbors\n",
    "            neigs = G.neighbors(i)\n",
    "            for j in neigs:\n",
    "                if np.random.rand() < beta:\n",
    "                    if(vector_states[j] != 2): # verify if the node is not recovered\n",
    "                        vector_states[j] = 1\n",
    "        for k in infected: # try to recover the infected nodes\n",
    "            if np.random.rand() < mu:\n",
    "                vector_states[k] = 2\n",
    "        ninfected = len(find(vector_states,1))\n",
    "        vI.append(ninfected/N)\n",
    "        vR.append(len(find(vector_states,2))/N)\n",
    "        vS.append(len(find(vector_states,0))/N)\n",
    "        t = t + 1\n",
    "        vt.append(t)\n",
    "    return vI, vS, vR, vt"
   ]
  },
  {
   "cell_type": "code",
   "execution_count": 5,
   "id": "51fdb793",
   "metadata": {},
   "outputs": [
    {
     "data": {
      "image/png": "[encoded data removed]",
      "text/plain": [
       "<Figure size 432x288 with 1 Axes>"
      ]
     },
     "metadata": {
      "needs_background": "light"
     },
     "output_type": "display_data"
    }
   ],
   "source": [
    "# Epidemic parameters\n",
    "beta = 0.2 # Probability of infection\n",
    "mu = 1  # Probability of recovering\n",
    "#seeds = [0] # seed node \n",
    "seeds = random.sample(range(0, N), 5) # select n seed nodes at random\n",
    "vI, vS, vR, vt = SIR(G, seeds, beta, mu)\n",
    "    \n",
    "plt.figure()\n",
    "plt.plot(vt, vI, 'ro--', label='Infected')\n",
    "plt.plot(vt, vR, 'bo--', label='Recovered')\n",
    "plt.plot(vt, vS, 'go--', label='Susceptible')\n",
    "plt.xlabel(\"t\", fontsize=15)\n",
    "plt.ylabel(\"Fraction of nodes\", fontsize=15)\n",
    "plt.legend()\n",
    "plt.grid(True)\n",
    "plt.show()"
   ]
  },
  {
   "cell_type": "markdown",
   "id": "f11a27c0",
   "metadata": {},
   "source": [
    "## Logistic Map"
   ]
  },
  {
   "cell_type": "markdown",
   "id": "319923e1",
   "metadata": {},
   "source": [
    "We considered $N$ logistic maps coupled as:\n",
    "\n",
    "$x_i(t+1) = (1- \\epsilon) f[x_i(t)] + \\frac{\\epsilon}{b_i} \\sum_{j=1}^N \\eta_{ij} f[(x_j (t-\\tau_{ij})]$ \n",
    "\n",
    "$t$: discrete time index\n",
    "\n",
    "$i$: discrete space index\n",
    "\n",
    "$f(x) = ax(1-x)$: logistic map equation\n",
    "\n",
    "$\\eta_{ij}$: adjacency matrix\n",
    "\n",
    "$b_i = \\sum_j \\eta_{ij}$\n",
    "\n",
    "$\\tau_{ij}$: delay time between the $i$th and $j$th"
   ]
  },
  {
   "cell_type": "code",
   "execution_count": 20,
   "id": "4db14542",
   "metadata": {},
   "outputs": [],
   "source": [
    "#M1 = nx.adjacency_matrix(G)\n",
    "#G_matrix = M1.todense()\n",
    "G_matrix = nx.to_numpy_array(G)"
   ]
  },
  {
   "cell_type": "code",
   "execution_count": 7,
   "id": "96756730",
   "metadata": {},
   "outputs": [],
   "source": [
    "def logistic(x, a = 0.5): return a*x*(1-x)"
   ]
  },
  {
   "cell_type": "code",
   "execution_count": 8,
   "id": "7d18ce26",
   "metadata": {},
   "outputs": [],
   "source": [
    "def calculate_b(matrix, index): return np.sum(matrix[index])"
   ]
  },
  {
   "cell_type": "code",
   "execution_count": 9,
   "id": "8f2fc150",
   "metadata": {},
   "outputs": [],
   "source": [
    "tau_matrix = []\n",
    "tau_zero = 5\n",
    "for i in range(0,500):\n",
    "    tau = []\n",
    "    for j in range(0,500):\n",
    "        tau.append(int(tau_zero + np.random.uniform(0,1)))\n",
    "    tau_matrix.append(tau)"
   ]
  },
  {
   "cell_type": "code",
   "execution_count": 10,
   "id": "00d11a2b",
   "metadata": {},
   "outputs": [],
   "source": [
    "x = [1]\n",
    "epsilon = 1\n",
    "x_t = 0\n",
    "for i in range(1,10):\n",
    "    x_t = (1-epsilon)*logistic(x[i-1]) + (epsilon/calculate_b(G,10))*(calculate_b(G,10)*logistic(x[i-1]))\n",
    "    x.append(x_t)"
   ]
  },
  {
   "cell_type": "code",
   "execution_count": 10,
   "id": "6abd53b6",
   "metadata": {},
   "outputs": [],
   "source": [
    "G_matrix = sp.sparse.csr_matrix.toarray(M1)"
   ]
  },
  {
   "cell_type": "code",
   "execution_count": 18,
   "id": "3d9b80a9",
   "metadata": {},
   "outputs": [
    {
     "data": {
      "text/plain": [
       "0"
      ]
     },
     "execution_count": 18,
     "metadata": {},
     "output_type": "execute_result"
    }
   ],
   "source": [
    "G_matrix[0][499]"
   ]
  },
  {
   "cell_type": "code",
   "execution_count": 36,
   "id": "cd901fb5",
   "metadata": {},
   "outputs": [],
   "source": [
    "#testando para o nó 1\n",
    "x_t = []\n",
    "soma = [] \n",
    "for j in range(0,N):\n",
    "    soma.append((epsilon/calculate_b(G_matrix,0))*G_matrix[0][j]*logistic(0-tau_matrix[0][j]))\n",
    "\n",
    "x_t = (1-epsilon)*logistic(0)+np.sum(soma)"
   ]
  },
  {
   "cell_type": "code",
   "execution_count": 37,
   "id": "a4d4e626",
   "metadata": {},
   "outputs": [
    {
     "data": {
      "text/plain": [
       "-15.0"
      ]
     },
     "execution_count": 37,
     "metadata": {},
     "output_type": "execute_result"
    }
   ],
   "source": [
    "x_t"
   ]
  },
  {
   "cell_type": "code",
   "execution_count": 13,
   "id": "e9a1969b",
   "metadata": {},
   "outputs": [],
   "source": [
    "# #testando para o nó 1\n",
    "# x_t = [0]\n",
    "# for t in range(1,100):\n",
    "#     soma = [] \n",
    "#     for j in range(0,N):\n",
    "# #         soma.append((epsilon/calculate_b(G_matrix,0))*G_matrix[0][j]*logistic(t-tau_matrix[0][j]))\n",
    "\n",
    "#     x_t = (1-epsilon)*logistic(x_t[t-1])+np.sum(soma)"
   ]
  },
  {
   "cell_type": "code",
   "execution_count": 15,
   "id": "bfe94664",
   "metadata": {},
   "outputs": [],
   "source": [
    "graph = nx.to_numpy_array(G)"
   ]
  },
  {
   "cell_type": "code",
   "execution_count": 17,
   "id": "c8a9a19d",
   "metadata": {},
   "outputs": [
    {
     "data": {
      "text/plain": [
       "array([[0., 1., 1., ..., 0., 1., 0.],\n",
       "       [1., 0., 0., ..., 0., 0., 0.],\n",
       "       [1., 0., 0., ..., 0., 0., 0.],\n",
       "       ...,\n",
       "       [0., 0., 0., ..., 0., 0., 0.],\n",
       "       [1., 0., 0., ..., 0., 0., 0.],\n",
       "       [0., 0., 0., ..., 0., 0., 0.]])"
      ]
     },
     "execution_count": 17,
     "metadata": {},
     "output_type": "execute_result"
    }
   ],
   "source": [
    "graph"
   ]
  }
 ],
 "metadata": {
  "kernelspec": {
   "display_name": "Python 3 (ipykernel)",
   "language": "python",
   "name": "python3"
  },
  "language_info": {
   "codemirror_mode": {
    "name": "ipython",
    "version": 3
   },
   "file_extension": ".py",
   "mimetype": "text/x-python",
   "name": "python",
   "nbconvert_exporter": "python",
   "pygments_lexer": "ipython3",
   "version": "3.9.12"
  }
 },
 "nbformat": 4,
 "nbformat_minor": 5
}
