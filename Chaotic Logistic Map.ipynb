{
 "cells": [
  {
   "cell_type": "code",
   "execution_count": 1,
   "id": "8171027e",
   "metadata": {},
   "outputs": [],
   "source": [
    "import numpy as np\n",
    "import matplotlib.pyplot as plt\n",
    "import pandas as pd\n",
    "import networkx as nx\n",
    "import random\n",
    "import scipy as sp"
   ]
  },
  {
   "cell_type": "markdown",
   "id": "f168e6e0",
   "metadata": {},
   "source": [
    "### Logistic Map"
   ]
  },
  {
   "cell_type": "markdown",
   "id": "6ecff07d",
   "metadata": {},
   "source": [
    "We considered $N$ logistic maps coupled as:\n",
    "\n",
    "$x_i(t+1) = (1- \\epsilon) f[x_i(t)] + \\frac{\\epsilon}{b_i} \\sum_{j=1}^N \\eta_{ij} f[(x_j (t-\\tau_{ij})]$ \n",
    "\n",
    "$t$: discrete time index\n",
    "\n",
    "$i$: discrete space index\n",
    "\n",
    "$f(x) = ax(1-x)$: logistic map equation\n",
    "\n",
    "$\\eta_{ij}$: adjacency matrix\n",
    "\n",
    "$b_i = \\sum_j \\eta_{ij}$\n",
    "\n",
    "$\\tau_{ij}$: delay time between the $i$th and $j$th\n",
    "\n",
    "$\\epsilon$: coupling strength"
   ]
  },
  {
   "cell_type": "markdown",
   "id": "1ddf7984",
   "metadata": {},
   "source": [
    "#### Network Connectivity\n",
    "\n",
    "$\\langle b \\rangle = \\frac{1}{N} \\sum_{i=1}^N b_i$\n",
    "\n",
    "In this case we measured the connectivity in terms of the average degree."
   ]
  },
  {
   "cell_type": "markdown",
   "id": "532f3b84",
   "metadata": {},
   "source": [
    "#### Synchronization indicators\n",
    "\n",
    "$\\sigma^2 = \\frac{1}{N} \\left \\langle \\sum_i (x_i - \\langle x\\rangle_s)^2 \\right \\rangle_t $\n",
    "\n",
    "$\\sigma '^2 = \\frac{1}{N} \\left \\langle \\sum_i (x_i - x_0)^2 \\right \\rangle_t $"
   ]
  },
  {
   "cell_type": "code",
   "execution_count": 3,
   "id": "2619631e",
   "metadata": {},
   "outputs": [],
   "source": [
    "class Logistic:\n",
    "    def __init__(self, epsilon = 0.5, t_0 = int(0), T = int(100), n_nodes = None,\n",
    "                 av_degree = 8, x0 = 1.3, tau_zero = int(1), type_of_graph = 1):\n",
    "        '''\n",
    "        PARAMETERS:\n",
    "        epsilon: float\n",
    "        t_0: float\n",
    "        T:float\n",
    "           Total time of simulated activity\n",
    "        n_nodes: int\n",
    "            Number of logistic maps\n",
    "        av_degree: int\n",
    "            Average degree of the graph\n",
    "        x0: float\n",
    "            Initial state of the logistic map\n",
    "        tau_zero: int\n",
    "            Delay parameter\n",
    "        type_of_graph: int\n",
    "            If 1, then the graph will follow the Barabasi-Albert\n",
    "            model. If it's another number it will be Small-World.\n",
    "        '''\n",
    "        if n_nodes is None:\n",
    "            raise ValueError(\"n_nodes must be specified\")\n",
    "        else:\n",
    "            self.n_nodes = n_nodes\n",
    "        self.epsilon = epsilon\n",
    "        self.t_0 = t_0\n",
    "        self.T = T\n",
    "        self.av_degree = av_degree\n",
    "        self.x0 = [x0]\n",
    "        self.tau_zero = tau_zero\n",
    "        self.type_of_graph = type_of_graph\n",
    "        \n",
    "    def logistic(self, x, a = 0.5):\n",
    "        return x*a*(1-x)\n",
    "    \n",
    "    def generate_graph(self):\n",
    "        if self.type_of_graph == 1:\n",
    "            m = int(self.av_degree/2) \n",
    "            self.G = nx.barabasi_albert_graph(self.n_nodes,m) \n",
    "        else: \n",
    "            k = int(self.av_degree/2)\n",
    "            p = 1 #probability of rewiring\n",
    "            self.G = nx.watts_strogatz_graph(self.n_nodes, k, p, seed=None)\n",
    "        return self.G\n",
    "    \n",
    "    def adjacency_matrix(self):\n",
    "        self.M = nx.to_numpy_array(self.generate_graph())\n",
    "        return self.M\n",
    "    \n",
    "    def calculate_b(self,index):\n",
    "        return np.sum(self.M[index])\n",
    "    \n",
    "    def Tau_matrix(self):\n",
    "        self.tau_matrix = []\n",
    "        for i in range(0,self.n_nodes):\n",
    "            tau = []\n",
    "            for j in range(0,self.n_nodes):\n",
    "                tau.append(int(self.tau_zero + np.random.uniform(0,1)))\n",
    "            self.tau_matrix.append(tau)\n",
    "        return self.tau_matrix\n",
    "    \n",
    "    def interation(self):\n",
    "        self.M = self.adjacency_matrix()\n",
    "        self.tau_matrix = self.Tau_matrix()\n",
    "        self.mapas = {}\n",
    "        for i in range(0,self.n_nodes):\n",
    "            self.mapas[i] = self.x0 #[self.logistic(np.random.uniform(0,2))] #Definindo os valores iniciais dos mapas\n",
    "            \n",
    "        for t in range(1,self.T): #Percorre nos intervalos de tempo\n",
    "            for i in range(0,self.n_nodes): #Percorre em todos os nós\n",
    "                x_T = (1-self.epsilon)*self.logistic(self.mapas[i][t-1])\n",
    "                soma = []\n",
    "                for j in range(0,self.n_nodes): #Calcula o somatorio pra cada um dos nós\n",
    "                    soma.append((self.epsilon/self.calculate_b(i))*self.M[i][j]*\n",
    "                                self.logistic(self.mapas[j][t-1] - self.tau_matrix[i][j]))\n",
    "                x_T = x_T + np.sum(soma)\n",
    "                self.mapas[i].append(x_T)\n",
    "        return self.mapas\n",
    "        \n",
    "    def run(self):\n",
    "        return self.interation()\n",
    "    \n",
    "    def Sigma(self):\n",
    "        space_mean = []\n",
    "        for i in range(self.n_nodes): #Calculando a media espacial \n",
    "            space_mean.append(self.mapas[i][self.T-1])\n",
    "        space_mean = np.mean(space_mean)\n",
    "        sigma = []\n",
    "        for i in range(n_nodes): #Somatorio \n",
    "            k = (self.mapas[i][self.T-1]-space_mean)**2\n",
    "            sigma.append(k)\n",
    "        sigma = sum(sigma)\n",
    "        return (1/self.n_nodes)*(sigma/self.T) #Retorna a média temporal do somatorio divido por n_nodes\n",
    "    \n",
    "    def Sigma_line(self):\n",
    "        sigma_line = []\n",
    "        for i in range(n_nodes):\n",
    "            k = (self.mapas[i][self.T-1]- self.mapas[i][0])**2\n",
    "            sigma_line.append(k)\n",
    "        sigma_line = sum(sigma_line)\n",
    "        return (1/self.n_nodes)*(sigma_line/self.T)"
   ]
  },
  {
   "cell_type": "code",
   "execution_count": 8,
   "id": "6055a396",
   "metadata": {},
   "outputs": [],
   "source": [
    "T = 100\n",
    "n_nodes = 40\n",
    "log = Logistic(epsilon = 1, T = T, n_nodes = n_nodes, av_degree = 5, x0 = 1.3, tau_zero = 1, type_of_graph=1)\n",
    "mapas = log.run()"
   ]
  },
  {
   "cell_type": "code",
   "execution_count": 9,
   "id": "83044c32",
   "metadata": {
    "scrolled": true
   },
   "outputs": [
    {
     "name": "stdout",
     "output_type": "stream",
     "text": [
      "Sigma: 0.0\n",
      "Sigma': 0.046139577001562494\n"
     ]
    }
   ],
   "source": [
    "print(\"Sigma:\",log.Sigma())\n",
    "print(\"Sigma':\",log.Sigma_line())"
   ]
  }
 ],
 "metadata": {
  "kernelspec": {
   "display_name": "Python 3 (ipykernel)",
   "language": "python",
   "name": "python3"
  },
  "language_info": {
   "codemirror_mode": {
    "name": "ipython",
    "version": 3
   },
   "file_extension": ".py",
   "mimetype": "text/x-python",
   "name": "python",
   "nbconvert_exporter": "python",
   "pygments_lexer": "ipython3",
   "version": "3.9.12"
  }
 },
 "nbformat": 4,
 "nbformat_minor": 5
}
