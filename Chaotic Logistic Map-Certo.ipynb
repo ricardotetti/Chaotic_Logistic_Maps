{
 "cells": [
  {
   "cell_type": "code",
   "execution_count": 1,
   "id": "8171027e",
   "metadata": {},
   "outputs": [],
   "source": [
    "import numpy as np\n",
    "import matplotlib.pyplot as plt\n",
    "import pandas as pd\n",
    "import networkx as nx\n",
    "import random\n",
    "import scipy as sp"
   ]
  },
  {
   "cell_type": "markdown",
   "id": "f168e6e0",
   "metadata": {},
   "source": [
    "### Logistic Map"
   ]
  },
  {
   "cell_type": "markdown",
   "id": "6ecff07d",
   "metadata": {},
   "source": [
    "We considered $N$ logistic maps coupled as:\n",
    "\n",
    "$x_i(t+1) = (1- \\epsilon) f[x_i(t)] + \\frac{\\epsilon}{b_i} \\sum_{j=1}^N \\eta_{ij} f[(x_j (t-\\tau_{ij})]$ \n",
    "\n",
    "$t$: discrete time index\n",
    "\n",
    "$i$: discrete space index\n",
    "\n",
    "$f(x) = ax(1-x)$: logistic map equation\n",
    "\n",
    "$\\eta_{ij}$: adjacency matrix\n",
    "\n",
    "$b_i = \\sum_j \\eta_{ij}$\n",
    "\n",
    "$\\tau_{ij}$: delay time between the $i$th and $j$th\n",
    "\n",
    "$\\epsilon$: coupling strength"
   ]
  },
  {
   "cell_type": "markdown",
   "id": "1ddf7984",
   "metadata": {},
   "source": [
    "#### Network Connectivity\n",
    "\n",
    "$\\langle b \\rangle = \\frac{1}{N} \\sum_{i=1}^N b_i$\n",
    "\n",
    "In this case we measured the connectivity in terms of the average degree."
   ]
  },
  {
   "cell_type": "markdown",
   "id": "532f3b84",
   "metadata": {},
   "source": [
    "#### Synchronization indicators\n",
    "\n",
    "$\\sigma^2 = \\frac{1}{N} \\left \\langle \\sum_i (x_i - \\langle x\\rangle_s)^2 \\right \\rangle_t $\n",
    "\n",
    "$\\sigma '^2 = \\frac{1}{N} \\left \\langle \\sum_i (x_i - x_0)^2 \\right \\rangle_t $"
   ]
  },
  {
   "cell_type": "code",
   "execution_count": 366,
   "id": "2619631e",
   "metadata": {},
   "outputs": [],
   "source": [
    "class Logistic:\n",
    "    def __init__(self, epsilon = 0.5, t_0 = int(0), T = int(100), a = 2.5, n_nodes = None,\n",
    "                 av_degree = 8, tau_zero = int(1), type_of_graph = 1):\n",
    "        '''\n",
    "        PARAMETERS:\n",
    "        epsilon: float\n",
    "        t_0: float\n",
    "        T:float\n",
    "           Total time of simulated activity\n",
    "        n_nodes: int\n",
    "            Number of logistic maps\n",
    "        av_degree: int\n",
    "            Average degree of the graph\n",
    "        x0: float\n",
    "            Initial state of the logistic map\n",
    "        tau_zero: int\n",
    "            Delay parameter\n",
    "        type_of_graph: int\n",
    "            If 1, then the graph will follow the Barabasi-Albert\n",
    "            model. If it's another number it will be Small-World.\n",
    "        '''\n",
    "        if n_nodes is None:\n",
    "            raise ValueError(\"n_nodes must be specified\")\n",
    "        else:\n",
    "            self.n_nodes = n_nodes\n",
    "        self.epsilon = epsilon\n",
    "        self.t_0 = t_0\n",
    "        self.T = T\n",
    "        self.av_degree = av_degree\n",
    "        self.tau_zero = tau_zero\n",
    "        self.type_of_graph = type_of_graph\n",
    "        self.a = a\n",
    "        \n",
    "    def logistic(self, x):\n",
    "        return x*self.a*(1-x)\n",
    "    \n",
    "    def generate_graph(self):\n",
    "        if self.type_of_graph == 1:\n",
    "            m = int(self.av_degree/2) \n",
    "            self.G = nx.barabasi_albert_graph(self.n_nodes,m) \n",
    "        else: \n",
    "            k = int(self.av_degree/2)\n",
    "            p = 1 #probability of rewiring\n",
    "            self.G = nx.watts_strogatz_graph(self.n_nodes, k, p, seed=None)\n",
    "        return self.G\n",
    "    \n",
    "    def adjacency_matrix(self):\n",
    "        self.M = nx.to_numpy_array(self.generate_graph())\n",
    "        return self.M\n",
    "    \n",
    "    def calculate_b(self,index):\n",
    "        return np.sum(self.M[index])\n",
    "    \n",
    "    def Tau_matrix(self):\n",
    "        self.tau_matrix = []\n",
    "        c = 2\n",
    "        for i in range(0,self.n_nodes):\n",
    "            tau = []\n",
    "            for j in range(0,self.n_nodes):\n",
    "                tau.append(int(self.tau_zero + c*np.random.uniform(0,1)))\n",
    "            self.tau_matrix.append(tau)\n",
    "        return self.tau_matrix\n",
    "    \n",
    "    def interation(self):\n",
    "        self.M = self.adjacency_matrix()\n",
    "        self.tau_matrix = self.Tau_matrix()\n",
    "        self.mapas = {}\n",
    "        tau_max = max(max(self.tau_matrix))\n",
    "        for i in range(0,self.n_nodes):\n",
    "            self.mapas[i] = [(np.random.uniform(0,1))] #Definindo os valores iniciais dos mapas    \n",
    "        for t in range(1,self.T): #Percorre nos intervalos de tempo\n",
    "            if t>=tau_max:\n",
    "                for i in range(0,self.n_nodes): #Percorre em todos os nós\n",
    "                    x_T = (1-self.epsilon)*self.logistic(self.mapas[i][t-1])\n",
    "                    soma = []\n",
    "                    for j in range(0,self.n_nodes): #Calcula o somatorio pra cada um dos nós\n",
    "                        tau = self.tau_matrix[i][j]\n",
    "                        soma.append((self.epsilon/self.calculate_b(i))*self.M[i][j]*\n",
    "                                    self.logistic(self.mapas[j][t-tau])) \n",
    "                    x_T = x_T + np.sum(soma)\n",
    "                    self.mapas[i].append(x_T)\n",
    "            else: \n",
    "                for i in range(0,self.n_nodes): #Percorre em todos os nós\n",
    "                    x_T = self.logistic(self.mapas[i][t-1])\n",
    "                    soma = []\n",
    "                    for j in range(0,self.n_nodes): #Calcula o somatorio pra cada um dos nós\n",
    "                        tau = self.tau_matrix[i][j]\n",
    "                        soma.append(0) \n",
    "                    x_T = x_T + np.sum(soma)\n",
    "                    self.mapas[i].append(x_T)\n",
    "        return self.mapas\n",
    "        \n",
    "    def run(self):\n",
    "        return self.interation()\n",
    "    \n",
    "    def Sigma(self):\n",
    "        space_mean = []\n",
    "        for i in range(self.n_nodes): #Calculando a media espacial \n",
    "            space_mean.append(self.mapas[i][self.T-1])\n",
    "        space_mean = np.mean(space_mean)\n",
    "        sigma = []\n",
    "        for i in range(n_nodes): #Somatorio \n",
    "            k = (self.mapas[i][self.T-1]-space_mean)**2\n",
    "            sigma.append(k)\n",
    "        sigma = sum(sigma)\n",
    "        return (1/self.n_nodes)*(sigma/self.T) #Retorna a média temporal do somatorio divido por n_nodes\n",
    "    \n",
    "    def Sigma_line(self):\n",
    "        sigma_line = []\n",
    "        for i in range(n_nodes):\n",
    "            k = (self.mapas[i][self.T-1]- self.mapas[i][0])**2\n",
    "            sigma_line.append(k)\n",
    "        sigma_line = sum(sigma_line)\n",
    "        return (1/self.n_nodes)*(sigma_line/self.T)\n",
    "    def Medias(self):\n",
    "        finais = []\n",
    "        for j in range(len(mapas)):\n",
    "            finais.append((self.mapas[j][self.T-1]-self.mapas[j][0])**2)\n",
    "        return (np.sum(finais)/self.T)*(1/n_nodes)\n",
    "    def Teste(self):\n",
    "        me = []\n",
    "        for i in range(self.n_nodes):\n",
    "            me.append(np.mean(self.mapas[i]))\n",
    "        # me = np.mean(me)\n",
    "        finais = []\n",
    "        for j in range(len(mapas)):\n",
    "            finais.append(((mapas[j][self.T-1]-me[j])**2))\n",
    "        return np.sum(finais)/self.n_nodes\n",
    "    def TESTE_cu(self):\n",
    "        av = []\n",
    "        for i in range(0,self.n_nodes):\n",
    "            av.append(np.mean(self.mapas[i]))\n",
    "        cu = []\n",
    "        for j in range(0,self.n_nodes):\n",
    "            cuzin = []\n",
    "            for i in range(0,self.T):\n",
    "                cuzin.append((self.mapas[j][i]-av[j])**2)\n",
    "            cu.append(np.mean(cuzin))\n",
    "        tes = []\n",
    "        for i in range(0,len(cu)):\n",
    "            tes.append(cu[i]/n_nodes)\n",
    "        return sum(tes)"
   ]
  },
  {
   "cell_type": "code",
   "execution_count": 348,
   "id": "6055a396",
   "metadata": {},
   "outputs": [],
   "source": [
    "T = 25\n",
    "n_nodes = 20\n",
    "log = Logistic(epsilon = 0.95, T = T, a = 4, n_nodes = n_nodes, av_degree = 20, tau_zero = 5, type_of_graph=1)\n",
    "mapas = log.run()"
   ]
  },
  {
   "cell_type": "code",
   "execution_count": 349,
   "id": "83044c32",
   "metadata": {
    "scrolled": true
   },
   "outputs": [
    {
     "name": "stdout",
     "output_type": "stream",
     "text": [
      "Sigma: 1.0310925954404175e-05\n",
      "Sigma': 0.00957653404974645\n",
      "Médias: 0.009576534049746451\n",
      "Teste: 0.03920627277401193\n"
     ]
    }
   ],
   "source": [
    "print(\"Sigma:\",log.Sigma())\n",
    "print(\"Sigma':\",log.Sigma_line())\n",
    "print(\"Médias:\", log.Medias())\n",
    "print(\"Teste:\", log.Teste())"
   ]
  },
  {
   "cell_type": "code",
   "execution_count": 350,
   "id": "fa66733c",
   "metadata": {},
   "outputs": [
    {
     "data": {
      "image/png": "[encoded data removed]",
      "text/plain": [
       "<Figure size 432x288 with 2 Axes>"
      ]
     },
     "metadata": {
      "needs_background": "light"
     },
     "output_type": "display_data"
    }
   ],
   "source": [
    "individuais = []\n",
    "numeros=[]\n",
    "for j in range(len(mapas)):\n",
    "    individuais.append(mapas[j])\n",
    "    numeros.append(j)\n",
    "#plotar os estados finais\n",
    "# plt.plot(finais)\n",
    "CS = plt.contourf(individuais,vmin=0, vmax=1, cmap = \"inferno\")\n",
    "cbar = plt.colorbar(CS)"
   ]
  },
  {
   "cell_type": "code",
   "execution_count": 365,
   "id": "b0d5e38a",
   "metadata": {},
   "outputs": [
    {
     "data": {
      "text/plain": [
       "0.09334705360954265"
      ]
     },
     "execution_count": 365,
     "metadata": {},
     "output_type": "execute_result"
    }
   ],
   "source": [
    "av = []\n",
    "for i in range(0,n_nodes):\n",
    "    av.append(np.mean(mapas[i]))\n",
    "cu = []\n",
    "for j in range(0,n_nodes):\n",
    "    cuzin = []\n",
    "    for i in range(0,T):\n",
    "        cuzin.append((mapas[j][i]-av[j])**2)\n",
    "    cu.append(np.mean(cuzin))\n",
    "tes = []\n",
    "for i in range(0,len(cu)):\n",
    "    tes.append(cu[i]/n_nodes)\n",
    "sum(tes)"
   ]
  },
  {
   "cell_type": "code",
   "execution_count": 271,
   "id": "2d45ed56",
   "metadata": {},
   "outputs": [
    {
     "data": {
      "text/plain": [
       "0.15340664352489214"
      ]
     },
     "execution_count": 271,
     "metadata": {},
     "output_type": "execute_result"
    }
   ],
   "source": [
    "finais = []\n",
    "for j in range(len(mapas)):\n",
    "    finais.append((mapas[j][T-1]-mapas[j][0])**2)\n",
    "np.mean(finais)"
   ]
  },
  {
   "cell_type": "code",
   "execution_count": null,
   "id": "54ab50ca",
   "metadata": {},
   "outputs": [],
   "source": [
    "# matrix_sigmas = []\n",
    "# matrix_sigmas_line = []\n",
    "# matrix_medias = []\n",
    "# matrix_testes = []\n",
    "matrix_cu = []\n",
    "for i in range(20,2,-1):\n",
    "#     list_sigmas = []\n",
    "#     list_sigmas_line = []\n",
    "#     list_medias = []\n",
    "#     list_testes = []\n",
    "    list_cu = []\n",
    "    for j in range(0,100):\n",
    "        T = 15\n",
    "        n_nodes = 200\n",
    "        log = Logistic(epsilon = 0.01*j, T = T, a = 4, n_nodes = n_nodes,\n",
    "                       av_degree = i, tau_zero = 5, type_of_graph=1)\n",
    "        mapas = log.run()\n",
    "#         list_sigmas.append(log.Sigma())\n",
    "#         list_sigmas_line.append(log.Sigma_line())\n",
    "#         list_medias.append(log.Medias())\n",
    "#         list_testes.append(log.Teste())\n",
    "        list_cu.append(log.TESTE_cu())\n",
    "#     matrix_sigmas.append(list_sigmas)\n",
    "#     matrix_sigmas_line.append(list_sigmas_line)\n",
    "#     matrix_medias.append(list_medias)\n",
    "#     matrix_testes.append(list_testes)\n",
    "    matrix_cu.append(list_cu)"
   ]
  },
  {
   "cell_type": "code",
   "execution_count": null,
   "id": "878bfad6",
   "metadata": {},
   "outputs": [],
   "source": [
    "epsilon_values = np.linspace(0,1,100)\n",
    "b_values = np.linspace(2,19,18)\n",
    "CS = plt.contourf(epsilon_values,b_values,matrix_cu, cmap = \"inferno\") #O eixo y ta trocado, é pra ser de 20 ate 2 \n",
    "                                                                           #e nao de 2 ate 20.\n",
    "cbar = plt.colorbar(CS)\n",
    "cbar.ax.set_ylabel(r\"$\\sigma^2$\", fontsize = 14)\n",
    "plt.xlabel(r\"$\\varepsilon$\", fontsize = 14)\n",
    "plt.ylabel(r'$\\langle b \\rangle$', fontsize = 14)\n",
    "# plt.savefig('sigma_WS_200nodes_blues.png', dpi = 150, bbox_inches = 'tight')\n",
    "plt.show()"
   ]
  },
  {
   "cell_type": "code",
   "execution_count": 238,
   "id": "de77eb6e",
   "metadata": {},
   "outputs": [
    {
     "data": {
      "text/plain": [
       "0.11547971007733979"
      ]
     },
     "execution_count": 238,
     "metadata": {},
     "output_type": "execute_result"
    }
   ],
   "source": [
    "me = []\n",
    "for i in range(n_nodes):\n",
    "    me.append(np.mean(mapas[i]))\n",
    "# me = np.mean(me)\n",
    "finais = []\n",
    "for j in range(len(mapas)):\n",
    "    finais.append(((mapas[j][T-1]-me[j])**2))\n",
    "np.sum(finais)/n_nodes"
   ]
  },
  {
   "cell_type": "code",
   "execution_count": 297,
   "id": "e5d26d87",
   "metadata": {},
   "outputs": [
    {
     "data": {
      "text/plain": [
       "7.527594736604742"
      ]
     },
     "execution_count": 297,
     "metadata": {},
     "output_type": "execute_result"
    }
   ],
   "source": [
    "T = 50\n",
    "n_nodes = 200\n",
    "log = Logistic(epsilon = 0.5, T = T, a = 4, n_nodes = n_nodes, av_degree = 5, tau_zero = 5, type_of_graph=1)\n",
    "mapas = log.run()\n",
    "\n",
    "space_av = []\n",
    "for i in range(n_nodes):\n",
    "    space_av.append(np.mean(mapas[i]))\n",
    "time_av = []\n",
    "for i in range(n_nodes):\n",
    "    time_av.append(((mapas[i][T-1]-space_av[i])**2))\n",
    "cu = np.sum(time_av)\n",
    "cu"
   ]
  },
  {
   "cell_type": "code",
   "execution_count": 300,
   "id": "85851067",
   "metadata": {},
   "outputs": [
    {
     "data": {
      "text/plain": [
       "0.15055189473209485"
      ]
     },
     "execution_count": 300,
     "metadata": {},
     "output_type": "execute_result"
    }
   ],
   "source": [
    "cu/Tmatrix_sigmas = []\n",
    "# matrix_sigmas_line = []\n",
    "# matrix_medias = []\n",
    "# matrix_testes = []"
   ]
  }
 ],
 "metadata": {
  "kernelspec": {
   "display_name": "Python 3 (ipykernel)",
   "language": "python",
   "name": "python3"
  },
  "language_info": {
   "codemirror_mode": {
    "name": "ipython",
    "version": 3
   },
   "file_extension": ".py",
   "mimetype": "text/x-python",
   "name": "python",
   "nbconvert_exporter": "python",
   "pygments_lexer": "ipython3",
   "version": "3.9.12"
  }
 },
 "nbformat": 4,
 "nbformat_minor": 5
}
