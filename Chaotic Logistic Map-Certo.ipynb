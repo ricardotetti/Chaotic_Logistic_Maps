{
 "cells": [
  {
   "cell_type": "code",
   "execution_count": 72,
   "id": "8171027e",
   "metadata": {},
   "outputs": [],
   "source": [
    "import numpy as np\n",
    "import matplotlib.pyplot as plt\n",
    "import pandas as pd\n",
    "import networkx as nx\n",
    "import random\n",
    "import scipy as sp"
   ]
  },
  {
   "cell_type": "markdown",
   "id": "f168e6e0",
   "metadata": {},
   "source": [
    "### Logistic Map"
   ]
  },
  {
   "cell_type": "markdown",
   "id": "6ecff07d",
   "metadata": {},
   "source": [
    "We considered $N$ logistic maps coupled as:\n",
    "\n",
    "$x_i(t+1) = (1- \\epsilon) f[x_i(t)] + \\frac{\\epsilon}{b_i} \\sum_{j=1}^N \\eta_{ij} f[(x_j (t-\\tau_{ij})]$ \n",
    "\n",
    "$t$: discrete time index\n",
    "\n",
    "$i$: discrete space index\n",
    "\n",
    "$f(x) = ax(1-x)$: logistic map equation\n",
    "\n",
    "$\\eta_{ij}$: adjacency matrix\n",
    "\n",
    "$b_i = \\sum_j \\eta_{ij}$\n",
    "\n",
    "$\\tau_{ij}$: delay time between the $i$th and $j$th\n",
    "\n",
    "$\\epsilon$: coupling strength"
   ]
  },
  {
   "cell_type": "markdown",
   "id": "1ddf7984",
   "metadata": {},
   "source": [
    "#### Network Connectivity\n",
    "\n",
    "$\\langle b \\rangle = \\frac{1}{N} \\sum_{i=1}^N b_i$\n",
    "\n",
    "In this case we measured the connectivity in terms of the average degree."
   ]
  },
  {
   "cell_type": "markdown",
   "id": "532f3b84",
   "metadata": {},
   "source": [
    "#### Synchronization indicators\n",
    "\n",
    "$\\sigma^2 = \\frac{1}{N} \\left \\langle \\sum_i (x_i - \\langle x\\rangle_s)^2 \\right \\rangle_t $\n",
    "\n",
    "$\\sigma '^2 = \\frac{1}{N} \\left \\langle \\sum_i (x_i - x_0)^2 \\right \\rangle_t $"
   ]
  },
  {
   "cell_type": "code",
   "execution_count": 120,
   "id": "2619631e",
   "metadata": {},
   "outputs": [],
   "source": [
    "class Logistic:\n",
    "    def __init__(self, epsilon = 0.5, t_0 = int(0), T = int(100), a = 2.5, n_nodes = None,\n",
    "                 av_degree = 8, x0 = 1.3, tau_zero = int(1), type_of_graph = 1):\n",
    "        '''\n",
    "        PARAMETERS:\n",
    "        epsilon: float\n",
    "        t_0: float\n",
    "        T:float\n",
    "           Total time of simulated activity\n",
    "        n_nodes: int\n",
    "            Number of logistic maps\n",
    "        av_degree: int\n",
    "            Average degree of the graph\n",
    "        x0: float\n",
    "            Initial state of the logistic map\n",
    "        tau_zero: int\n",
    "            Delay parameter\n",
    "        type_of_graph: int\n",
    "            If 1, then the graph will follow the Barabasi-Albert\n",
    "            model. If it's another number it will be Small-World.\n",
    "        '''\n",
    "        if n_nodes is None:\n",
    "            raise ValueError(\"n_nodes must be specified\")\n",
    "        else:\n",
    "            self.n_nodes = n_nodes\n",
    "        self.epsilon = epsilon\n",
    "        self.t_0 = t_0\n",
    "        self.T = T\n",
    "        self.av_degree = av_degree\n",
    "        self.x0 = [x0]\n",
    "        self.tau_zero = tau_zero\n",
    "        self.type_of_graph = type_of_graph\n",
    "        self.a = a\n",
    "        \n",
    "    def logistic(self, x):\n",
    "        return x*self.a*(1-x)\n",
    "    \n",
    "    def generate_graph(self):\n",
    "        if self.type_of_graph == 1:\n",
    "            m = int(self.av_degree/2) \n",
    "            self.G = nx.barabasi_albert_graph(self.n_nodes,m) \n",
    "        else: \n",
    "            k = int(self.av_degree/2)\n",
    "            p = 1 #probability of rewiring\n",
    "            self.G = nx.watts_strogatz_graph(self.n_nodes, k, p, seed=None)\n",
    "        return self.G\n",
    "    \n",
    "    def adjacency_matrix(self):\n",
    "        self.M = nx.to_numpy_array(self.generate_graph())\n",
    "        return self.M\n",
    "    \n",
    "    def calculate_b(self,index):\n",
    "        return np.sum(self.M[index])\n",
    "    \n",
    "    def Tau_matrix(self):\n",
    "        self.tau_matrix = []\n",
    "        for i in range(0,self.n_nodes):\n",
    "            tau = []\n",
    "            for j in range(0,self.n_nodes):\n",
    "                tau.append(int(self.tau_zero + np.random.uniform(0,1)))\n",
    "            self.tau_matrix.append(tau)\n",
    "        return self.tau_matrix\n",
    "    \n",
    "    def interation(self):\n",
    "        self.M = self.adjacency_matrix()\n",
    "        self.tau_matrix = self.Tau_matrix()\n",
    "        self.mapas = {}\n",
    "        for i in range(0,self.n_nodes):\n",
    "#             self.mapas[i] = self.x0 #[self.logistic(np.random.uniform(0,2))] #Definindo os valores iniciais dos mapas\n",
    "            self.mapas[i] = [(np.random.uniform(0,1))] #Definindo os valores iniciais dos mapas    \n",
    "        for t in range(1,self.T): #Percorre nos intervalos de tempo\n",
    "            for i in range(0,self.n_nodes): #Percorre em todos os nós\n",
    "                x_T = (1-self.epsilon)*self.logistic(self.mapas[i][t-1])\n",
    "                soma = []\n",
    "                for j in range(0,self.n_nodes): #Calcula o somatorio pra cada um dos nós\n",
    "                    soma.append((self.epsilon/self.calculate_b(i))*self.M[i][j]*\n",
    "                                self.logistic(self.mapas[j][t-1])) #- self.tau_matrix[i][j])) #ALGO DANDO ERRADO AQUI!!\n",
    "                                                #TEM QUE MUDAR ESSA INTERAÇAO EM MAPAS\n",
    "                x_T = x_T + np.sum(soma)\n",
    "#                 print(soma)\n",
    "                self.mapas[i].append(x_T)\n",
    "#             print(x_T)\n",
    "        return self.mapas\n",
    "        \n",
    "    def run(self):\n",
    "        return self.interation()\n",
    "    \n",
    "    def Sigma(self):\n",
    "        space_mean = []\n",
    "        for i in range(self.n_nodes): #Calculando a media espacial \n",
    "            space_mean.append(self.mapas[i][self.T-1])\n",
    "        space_mean = np.mean(space_mean)\n",
    "        sigma = []\n",
    "        for i in range(n_nodes): #Somatorio \n",
    "            k = (self.mapas[i][self.T-1]-space_mean)**2\n",
    "            sigma.append(k)\n",
    "        sigma = sum(sigma)\n",
    "        return (1/self.n_nodes)*(sigma/self.T) #Retorna a média temporal do somatorio divido por n_nodes\n",
    "    \n",
    "    def Sigma_line(self):\n",
    "        sigma_line = []\n",
    "        for i in range(n_nodes):\n",
    "            k = (self.mapas[i][self.T-1]- self.mapas[i][0])**2\n",
    "            sigma_line.append(k)\n",
    "        sigma_line = sum(sigma_line)\n",
    "        return (1/self.n_nodes)*(sigma_line/self.T)"
   ]
  },
  {
   "cell_type": "code",
   "execution_count": 137,
   "id": "6055a396",
   "metadata": {},
   "outputs": [],
   "source": [
    "T = 5\n",
    "n_nodes = 20\n",
    "log = Logistic(epsilon = 1, T = T, a= 4, n_nodes = n_nodes, av_degree = 4, x0 = .3, tau_zero = 0, type_of_graph=1)\n",
    "mapas = log.run()"
   ]
  },
  {
   "cell_type": "code",
   "execution_count": 138,
   "id": "3517a529",
   "metadata": {
    "collapsed": true
   },
   "outputs": [
    {
     "data": {
      "text/plain": [
       "array([[0., 1., 1., 1., 1., 1., 0., 0., 0., 1., 1., 1., 1., 1., 0., 0.,\n",
       "        0., 1., 0., 0.],\n",
       "       [1., 0., 0., 1., 0., 1., 0., 1., 0., 0., 0., 0., 0., 0., 0., 0.,\n",
       "        1., 0., 0., 0.],\n",
       "       [1., 0., 0., 0., 0., 0., 0., 0., 0., 0., 0., 0., 0., 0., 0., 0.,\n",
       "        0., 0., 0., 0.],\n",
       "       [1., 1., 0., 0., 1., 0., 1., 0., 0., 0., 0., 0., 0., 0., 0., 0.,\n",
       "        0., 0., 0., 1.],\n",
       "       [1., 0., 0., 1., 0., 0., 1., 0., 1., 0., 0., 0., 1., 0., 0., 0.,\n",
       "        1., 0., 1., 0.],\n",
       "       [1., 1., 0., 0., 0., 0., 0., 0., 0., 0., 0., 1., 0., 0., 0., 0.,\n",
       "        0., 0., 1., 0.],\n",
       "       [0., 0., 0., 1., 1., 0., 0., 1., 1., 0., 0., 0., 0., 0., 0., 1.,\n",
       "        0., 0., 0., 0.],\n",
       "       [0., 1., 0., 0., 0., 0., 1., 0., 0., 1., 1., 0., 0., 1., 0., 1.,\n",
       "        0., 0., 0., 1.],\n",
       "       [0., 0., 0., 0., 1., 0., 1., 0., 0., 0., 0., 0., 0., 0., 0., 0.,\n",
       "        0., 0., 0., 0.],\n",
       "       [1., 0., 0., 0., 0., 0., 0., 1., 0., 0., 0., 0., 0., 0., 0., 0.,\n",
       "        0., 1., 0., 0.],\n",
       "       [1., 0., 0., 0., 0., 0., 0., 1., 0., 0., 0., 0., 0., 0., 1., 0.,\n",
       "        0., 0., 0., 0.],\n",
       "       [1., 0., 0., 0., 0., 1., 0., 0., 0., 0., 0., 0., 0., 0., 1., 0.,\n",
       "        0., 0., 0., 0.],\n",
       "       [1., 0., 0., 0., 1., 0., 0., 0., 0., 0., 0., 0., 0., 0., 0., 0.,\n",
       "        0., 0., 0., 0.],\n",
       "       [1., 0., 0., 0., 0., 0., 0., 1., 0., 0., 0., 0., 0., 0., 0., 0.,\n",
       "        0., 0., 0., 0.],\n",
       "       [0., 0., 0., 0., 0., 0., 0., 0., 0., 0., 1., 1., 0., 0., 0., 0.,\n",
       "        0., 0., 0., 0.],\n",
       "       [0., 0., 0., 0., 0., 0., 1., 1., 0., 0., 0., 0., 0., 0., 0., 0.,\n",
       "        0., 0., 0., 0.],\n",
       "       [0., 1., 0., 0., 1., 0., 0., 0., 0., 0., 0., 0., 0., 0., 0., 0.,\n",
       "        0., 0., 0., 0.],\n",
       "       [1., 0., 0., 0., 0., 0., 0., 0., 0., 1., 0., 0., 0., 0., 0., 0.,\n",
       "        0., 0., 0., 0.],\n",
       "       [0., 0., 0., 0., 1., 1., 0., 0., 0., 0., 0., 0., 0., 0., 0., 0.,\n",
       "        0., 0., 0., 0.],\n",
       "       [0., 0., 0., 1., 0., 0., 0., 1., 0., 0., 0., 0., 0., 0., 0., 0.,\n",
       "        0., 0., 0., 0.]])"
      ]
     },
     "execution_count": 138,
     "metadata": {},
     "output_type": "execute_result"
    }
   ],
   "source": [
    "log.adjacency_matrix()"
   ]
  },
  {
   "cell_type": "code",
   "execution_count": 139,
   "id": "d3327027",
   "metadata": {
    "collapsed": true
   },
   "outputs": [
    {
     "data": {
      "text/plain": [
       "{0: [0.45148044839890034,\n",
       "  0.6743585616732455,\n",
       "  0.8312482035985471,\n",
       "  0.663869636621136,\n",
       "  0.9370932239202485],\n",
       " 1: [0.6721299000154315,\n",
       "  0.607940583000423,\n",
       "  0.7802691780548021,\n",
       "  0.4293750094362041,\n",
       "  0.8308366244791731],\n",
       " 2: [0.5864648477934021,\n",
       "  0.6336478956716958,\n",
       "  0.6015324270044664,\n",
       "  0.47478834953667615,\n",
       "  0.6785148015635144],\n",
       " 3: [0.2080315151819505,\n",
       "  0.6922991837519339,\n",
       "  0.8207914592738386,\n",
       "  0.6008517764299998,\n",
       "  0.8572550513766042],\n",
       " 4: [0.8485974034162485,\n",
       "  0.9119518279594012,\n",
       "  0.9607864659781711,\n",
       "  0.9026104369452754,\n",
       "  0.9664507983318809],\n",
       " 5: [0.2584745355694167,\n",
       "  0.8669988979681373,\n",
       "  0.8867295442536184,\n",
       "  0.8351621666344318,\n",
       "  0.9849973873188529],\n",
       " 6: [0.3051684209430323,\n",
       "  0.5864685084090034,\n",
       "  0.5866334307384957,\n",
       "  0.36953734485661793,\n",
       "  0.6554675105072955],\n",
       " 7: [0.9262287431339358,\n",
       "  0.6495240379803657,\n",
       "  0.9058607827377402,\n",
       "  0.40854933160492607,\n",
       "  0.9512340001317559],\n",
       " 8: [0.33120257097797057,\n",
       "  0.7082368357386224,\n",
       "  0.7229582813446357,\n",
       "  0.6787055852303353,\n",
       "  0.7839394801534948],\n",
       " 9: [0.1761153756856959,\n",
       "  0.7535572351300385,\n",
       "  0.7998162258727226,\n",
       "  0.7570335187591329,\n",
       "  0.9055180919299415],\n",
       " 10: [0.9174952358572915,\n",
       "  0.8708803776272638,\n",
       "  0.8737025544572852,\n",
       "  0.7542541760393409,\n",
       "  0.8786429851293087],\n",
       " 11: [0.8548487011488355,\n",
       "  0.7077464566897478,\n",
       "  0.9412043335511859,\n",
       "  0.650029686321894,\n",
       "  0.9442838684859064],\n",
       " 12: [0.4956931753953586,\n",
       "  0.4661669247990356,\n",
       "  0.8813271719887722,\n",
       "  0.4647397293849401,\n",
       "  0.9629313888820152],\n",
       " 13: [0.026123370417117098,\n",
       "  0.5774007120942859,\n",
       "  0.9319827852151499,\n",
       "  0.513452425735989,\n",
       "  0.9732977719159159],\n",
       " 14: [0.6182104567629889,\n",
       "  0.6466871622977854,\n",
       "  0.6640936749245905,\n",
       "  0.5012420568096706,\n",
       "  0.8170031123204254],\n",
       " 15: [0.3860528391774998,\n",
       "  0.5471572009284629,\n",
       "  0.5320088399082366,\n",
       "  0.3955721269495687,\n",
       "  0.5436772125940658],\n",
       " 16: [0.5888285625788918,\n",
       "  0.3995602546588979,\n",
       "  0.638578310447826,\n",
       "  0.33137027369550737,\n",
       "  0.8256918143774199],\n",
       " 17: [0.8869845500932835,\n",
       "  0.9280625161032334,\n",
       "  0.8775513204481871,\n",
       "  0.8799615420928579,\n",
       "  0.934857372976797],\n",
       " 18: [0.4161605075575171,\n",
       "  0.6735284003287463,\n",
       "  0.6020410748067662,\n",
       "  0.5211009806096504,\n",
       "  0.6432001845824238],\n",
       " 19: [0.9420544376744853,\n",
       "  0.8145564679382324,\n",
       "  0.8903185278217349,\n",
       "  0.7735680118470878,\n",
       "  0.9783865837436571]}"
      ]
     },
     "execution_count": 139,
     "metadata": {},
     "output_type": "execute_result"
    }
   ],
   "source": [
    "mapas"
   ]
  },
  {
   "cell_type": "code",
   "execution_count": 95,
   "id": "83044c32",
   "metadata": {
    "scrolled": true
   },
   "outputs": [
    {
     "name": "stdout",
     "output_type": "stream",
     "text": [
      "Sigma: 7.360049425260525e-05\n",
      "Sigma': 0.020565035526376667\n"
     ]
    }
   ],
   "source": [
    "print(\"Sigma:\",log.Sigma())\n",
    "print(\"Sigma':\",log.Sigma_line())"
   ]
  },
  {
   "cell_type": "code",
   "execution_count": 157,
   "id": "54ab50ca",
   "metadata": {},
   "outputs": [],
   "source": [
    "matrix_sigmas = []\n",
    "matrix_sigmas_line = []\n",
    "for i in range(20,2,-1):\n",
    "    list_sigmas = []\n",
    "    list_sigmas_line = []\n",
    "    for j in range(0,100):\n",
    "        T = 5\n",
    "        n_nodes = 200\n",
    "        log = Logistic(epsilon = 0.01*j, T = T, a = 4, n_nodes = n_nodes, av_degree = i, tau_zero = 1, type_of_graph=1)\n",
    "        mapas = log.run()\n",
    "        list_sigmas.append(log.Sigma())\n",
    "        list_sigmas_line.append(log.Sigma_line())\n",
    "    matrix_sigmas.append(list_sigmas)\n",
    "    matrix_sigmas_line.append(list_sigmas_line)"
   ]
  },
  {
   "cell_type": "code",
   "execution_count": 159,
   "id": "878bfad6",
   "metadata": {},
   "outputs": [
    {
     "data": {
      "image/png": "[encoded data removed]",
      "text/plain": [
       "<Figure size 432x288 with 2 Axes>"
      ]
     },
     "metadata": {
      "needs_background": "light"
     },
     "output_type": "display_data"
    }
   ],
   "source": [
    "epsilon_values = np.linspace(0,1,100)\n",
    "b_values = np.linspace(2,19,18)\n",
    "CS = plt.contourf(epsilon_values,b_values,matrix_sigmas, cmap = \"inferno\") #O eixo y ta trocado, é pra ser de 20 ate 2 \n",
    "                                                                           #e nao de 2 ate 20.\n",
    "cbar = plt.colorbar(CS)\n",
    "plt.show()"
   ]
  }
 ],
 "metadata": {
  "kernelspec": {
   "display_name": "Python 3 (ipykernel)",
   "language": "python",
   "name": "python3"
  },
  "language_info": {
   "codemirror_mode": {
    "name": "ipython",
    "version": 3
   },
   "file_extension": ".py",
   "mimetype": "text/x-python",
   "name": "python",
   "nbconvert_exporter": "python",
   "pygments_lexer": "ipython3",
   "version": "3.9.12"
  }
 },
 "nbformat": 4,
 "nbformat_minor": 5
}
