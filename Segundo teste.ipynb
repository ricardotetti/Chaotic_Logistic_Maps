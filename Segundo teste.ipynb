{
 "cells": [
  {
   "cell_type": "code",
   "execution_count": 1,
   "id": "8171027e",
   "metadata": {},
   "outputs": [],
   "source": [
    "import numpy as np\n",
    "import matplotlib.pyplot as plt\n",
    "import pandas as pd\n",
    "import networkx as nx\n",
    "import igraph as ig\n",
    "import random\n",
    "import scipy as sp"
   ]
  },
  {
   "cell_type": "markdown",
   "id": "ef8c52d3",
   "metadata": {},
   "source": [
    "https://github.com/fabridamicelli/kuramoto/blob/master/kuramoto/kuramoto.py\n"
   ]
  },
  {
   "cell_type": "markdown",
   "id": "f168e6e0",
   "metadata": {},
   "source": [
    "### Logistic Map"
   ]
  },
  {
   "cell_type": "markdown",
   "id": "6ecff07d",
   "metadata": {},
   "source": [
    "We considered $N$ logistic maps coupled as:\n",
    "\n",
    "$x_i(t+1) = (1- \\epsilon) f[x_i(t)] + \\frac{\\epsilon}{b_i} \\sum_{j=1}^N \\eta_{ij} f[(x_j (t-\\tau_{ij})]$ \n",
    "\n",
    "$t$: discrete time index\n",
    "\n",
    "$i$: discrete space index\n",
    "\n",
    "$f(x) = ax(1-x)$: logistic map equation\n",
    "\n",
    "$\\eta_{ij}$: adjacency matrix\n",
    "\n",
    "$b_i = \\sum_j \\eta_{ij}$\n",
    "\n",
    "$\\tau_{ij}$: delay time between the $i$th and $j$th"
   ]
  },
  {
   "cell_type": "code",
   "execution_count": 34,
   "id": "2619631e",
   "metadata": {},
   "outputs": [],
   "source": [
    "class Logistic:\n",
    "    def __init__(self, epsilon = 0.5, t_0 = int(0), T = int(100), n_nodes = None):\n",
    "        '''\n",
    "        PARAMETERS:\n",
    "        epsilon: float\n",
    "        t_0: float\n",
    "        T:float\n",
    "           Total time of simulated activity\n",
    "        n_nodes: int\n",
    "            Number of logistic maps\n",
    "        '''\n",
    "        if n_nodes is None:\n",
    "            raise ValueError(\"n_nodes must be specified\")\n",
    "        else:\n",
    "            self.n_nodes = n_nodes\n",
    "        self.epsilon = epsilon\n",
    "        self.t_0 = t_0\n",
    "        self.T = T\n",
    "        \n",
    "    def logistic(self, x, a = 1.5):\n",
    "        return x*a*(1-x)\n",
    "    \n",
    "    def generate_graph(self, av_degree = 8):\n",
    "        p = float(av_degree)/float(self.n_nodes) #probability of connection in the ER model\n",
    "        m = int(av_degree/2) # number of nodes included at each time step in the BA model\n",
    "        self.G = nx.barabasi_albert_graph(self.n_nodes,m) \n",
    "        return self.G\n",
    "    \n",
    "    def adjacency_matrix(self, av_degree = 8):\n",
    "        self.M = nx.to_numpy_array(self.generate_graph(av_degree))\n",
    "        return self.M\n",
    "    \n",
    "    def interation(self):\n",
    "        \n",
    "        \n",
    "        \n",
    "    def run(self):\n",
    "        return self.interation()\n",
    "    "
   ]
  },
  {
   "cell_type": "code",
   "execution_count": 35,
   "id": "5f9c5d47",
   "metadata": {},
   "outputs": [
    {
     "data": {
      "text/plain": [
       "array([[0., 1., 1., ..., 0., 0., 0.],\n",
       "       [1., 0., 0., ..., 0., 0., 0.],\n",
       "       [1., 0., 0., ..., 0., 0., 0.],\n",
       "       ...,\n",
       "       [0., 0., 0., ..., 0., 0., 0.],\n",
       "       [0., 0., 0., ..., 0., 0., 0.],\n",
       "       [0., 0., 0., ..., 0., 0., 0.]])"
      ]
     },
     "execution_count": 35,
     "metadata": {},
     "output_type": "execute_result"
    }
   ],
   "source": [
    "log = Logistic(n_nodes = 500)\n",
    "log.adjacency_matrix()"
   ]
  }
 ],
 "metadata": {
  "kernelspec": {
   "display_name": "Python 3 (ipykernel)",
   "language": "python",
   "name": "python3"
  },
  "language_info": {
   "codemirror_mode": {
    "name": "ipython",
    "version": 3
   },
   "file_extension": ".py",
   "mimetype": "text/x-python",
   "name": "python",
   "nbconvert_exporter": "python",
   "pygments_lexer": "ipython3",
   "version": "3.9.12"
  }
 },
 "nbformat": 4,
 "nbformat_minor": 5
}
