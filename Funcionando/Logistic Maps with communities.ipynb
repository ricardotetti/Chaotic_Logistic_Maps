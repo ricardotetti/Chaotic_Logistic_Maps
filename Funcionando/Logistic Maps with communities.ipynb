{
 "cells": [
  {
   "cell_type": "code",
   "execution_count": 1,
   "id": "d3fb0c6f",
   "metadata": {},
   "outputs": [],
   "source": [
    "import numpy as np\n",
    "import matplotlib.pyplot as plt\n",
    "import pandas as pd\n",
    "import networkx as nx\n",
    "import random\n",
    "import scipy as sp"
   ]
  },
  {
   "cell_type": "markdown",
   "id": "22bfd479",
   "metadata": {},
   "source": [
    "### Logistic Map\n"
   ]
  },
  {
   "cell_type": "markdown",
   "id": "a579ebf6",
   "metadata": {},
   "source": [
    "We considered $N$ logistic maps coupled as:\n",
    "\n",
    "$x_i(t+1) = (1- \\epsilon) f[x_i(t)] + \\frac{\\epsilon}{b_i} \\sum_{j=1}^N \\eta_{ij} f[(x_j (t-\\tau_{ij})]$ \n",
    "\n",
    "$t$: discrete time index\n",
    "\n",
    "$i$: discrete space index\n",
    "\n",
    "$f(x) = ax(1-x)$: logistic map equation\n",
    "\n",
    "$\\eta_{ij}$: adjacency matrix\n",
    "\n",
    "$b_i = \\sum_j \\eta_{ij}$\n",
    "\n",
    "$\\tau_{ij}$: delay time between the $i$th and $j$th\n",
    "\n",
    "$\\epsilon$: coupling strength"
   ]
  },
  {
   "cell_type": "markdown",
   "id": "e9fab565",
   "metadata": {},
   "source": [
    "#### Network Connectivity\n",
    "\n",
    "$\\langle b \\rangle = \\frac{1}{N} \\sum_{i=1}^N b_i$\n",
    "\n",
    "In this case we measured the connectivity in terms of the average degree."
   ]
  },
  {
   "cell_type": "markdown",
   "id": "8bf960c9",
   "metadata": {},
   "source": [
    "#### Synchronization indicators\n",
    "\n",
    "$\\sigma^2 = \\frac{1}{N} \\left \\langle \\sum_i (x_i - \\langle x\\rangle_s)^2 \\right \\rangle_t $\n",
    "\n",
    "$\\sigma '^2 = \\frac{1}{N} \\left \\langle \\sum_i (x_i - x_0)^2 \\right \\rangle_t $"
   ]
  },
  {
   "cell_type": "code",
   "execution_count": 2,
   "id": "e5f3c3e0",
   "metadata": {},
   "outputs": [],
   "source": [
    "class Logistic:\n",
    "    def __init__(self, epsilon = 0.5, t_0 = int(0), T = int(100), a = 2.5,\n",
    "                     x0 = 1.3, tau_zero = int(1), n_nodes = None, graph = None):\n",
    "        '''\n",
    "        PARAMETERS:\n",
    "        epsilon: float\n",
    "        t_0: float\n",
    "        T:float\n",
    "           Total time of simulated activity\n",
    "        n_nodes: int\n",
    "            Number of logistic maps\n",
    "        x0: float\n",
    "            Initial state of the logistic map\n",
    "        tau_zero: int\n",
    "            Delay parameter\n",
    "        graph: networkx graph\n",
    "        '''\n",
    "        if n_nodes is None:\n",
    "            raise ValueError(\"n_nodes must be specified\")\n",
    "        else:\n",
    "            self.n_nodes = n_nodes\n",
    "        self.epsilon = epsilon\n",
    "        self.t_0 = t_0\n",
    "        self.T = T\n",
    "        self.x0 = [x0]\n",
    "        self.tau_zero = tau_zero\n",
    "        self.a = a\n",
    "        if graph is None:\n",
    "            raise ValueError(\"graph must be specified\")\n",
    "        else:\n",
    "            self.G = graph\n",
    "        \n",
    "    def logistic(self, x):\n",
    "        return x*self.a*(1-x)\n",
    "    \n",
    "    def adjacency_matrix(self):\n",
    "        self.M = nx.to_numpy_array(self.G)\n",
    "        return self.M\n",
    "    \n",
    "    def calculate_b(self,index):\n",
    "        return np.sum(self.M[index])\n",
    "    \n",
    "    def Tau_matrix(self):\n",
    "        self.tau_matrix = []\n",
    "        c = 2\n",
    "        for i in range(0,self.n_nodes):\n",
    "            tau = []\n",
    "            for j in range(0,self.n_nodes):\n",
    "                tau.append(int(self.tau_zero + c*np.random.uniform(0,1)))\n",
    "            self.tau_matrix.append(tau)\n",
    "        return self.tau_matrix\n",
    "    \n",
    "    def interation(self):\n",
    "        self.M = self.adjacency_matrix()\n",
    "        self.tau_matrix = self.Tau_matrix()\n",
    "        self.mapas = {}\n",
    "        tau_max = max(max(self.tau_matrix))\n",
    "        for i in range(0,self.n_nodes):\n",
    "            self.mapas[i] = [(np.random.uniform(0,1))] #Definindo os valores iniciais dos mapas    \n",
    "        for t in range(1,self.T): #Percorre nos intervalos de tempo\n",
    "            if t>=tau_max:\n",
    "                for i in range(0,self.n_nodes): #Percorre em todos os nós\n",
    "                    x_T = (1-self.epsilon)*self.logistic(self.mapas[i][t-1])\n",
    "                    soma = []\n",
    "                    for j in range(0,self.n_nodes): #Calcula o somatorio pra cada um dos nós\n",
    "                        tau = self.tau_matrix[i][j]\n",
    "                        soma.append((self.epsilon/self.calculate_b(i))*self.M[i][j]*\n",
    "                                    self.logistic(self.mapas[j][t-tau])) \n",
    "                    x_T = x_T + np.sum(soma)\n",
    "                    self.mapas[i].append(x_T)\n",
    "                    \n",
    "            else: \n",
    "                for i in range(0,self.n_nodes): #Percorre em todos os nós\n",
    "                    x_T = self.logistic(self.mapas[i][t-1])\n",
    "                    soma = []\n",
    "                    for j in range(0,self.n_nodes): #Calcula o somatorio pra cada um dos nós\n",
    "                        tau = self.tau_matrix[i][j]\n",
    "                        soma.append(0) \n",
    "                    x_T = x_T + np.sum(soma)\n",
    "                    self.mapas[i].append(x_T)\n",
    "        \n",
    "        return self.mapas\n",
    "        \n",
    "    def run(self):\n",
    "        return self.interation()\n",
    "    \n",
    "    def Sigma(self):\n",
    "        space_mean = []\n",
    "        for i in range(self.n_nodes): #Calculando a media espacial \n",
    "            space_mean.append(self.mapas[i][self.T-1])\n",
    "        space_mean = np.mean(space_mean)\n",
    "        sigma = []\n",
    "        for i in range(n_nodes): #Somatorio \n",
    "            k = (self.mapas[i][self.T-1]-space_mean)**2\n",
    "            sigma.append(k)\n",
    "        sigma = sum(sigma)\n",
    "        return (1/self.n_nodes)*(sigma/self.T) #Retorna a média temporal do somatorio divido por n_nodes\n",
    "    \n",
    "    def Sigma_line(self):\n",
    "        sigma_line = []\n",
    "        for i in range(n_nodes):\n",
    "            k = (self.mapas[i][self.T-1]- self.mapas[i][0])**2\n",
    "            sigma_line.append(k)\n",
    "        sigma_line = sum(sigma_line)\n",
    "        return (1/self.n_nodes)*(sigma_line/self.T)\n",
    "    \n",
    "    \n",
    "    def TESTE_cu(self):\n",
    "        av = []\n",
    "        for i in range(0,self.n_nodes):\n",
    "            av.append(np.mean(self.mapas[i]))\n",
    "        cu = []\n",
    "        for j in range(0,self.n_nodes):\n",
    "            cuzin = []\n",
    "            for i in range(0,self.T):\n",
    "                cuzin.append((self.mapas[j][i]-av[j])**2)\n",
    "            cu.append(np.mean(cuzin))\n",
    "        tes = []\n",
    "        for i in range(0,len(cu)):\n",
    "            tes.append(cu[i]/n_nodes)\n",
    "        return sum(tes)\n",
    "    def TESTE_cu_line(self):\n",
    "        cu = []\n",
    "        for j in range(0,self.n_nodes):\n",
    "            cuzin = []\n",
    "            for i in range(0,self.T):\n",
    "                cuzin.append((self.mapas[j][i]-self.mapas[j][0])**2)\n",
    "            cu.append(np.mean(cuzin))\n",
    "        tes = []\n",
    "        for i in range(0,len(cu)):\n",
    "            tes.append(cu[i]/n_nodes)\n",
    "        return sum(tes)"
   ]
  },
  {
   "cell_type": "markdown",
   "id": "9fb6251d",
   "metadata": {},
   "source": [
    "###  Barabasi-Albert"
   ]
  },
  {
   "cell_type": "code",
   "execution_count": 3,
   "id": "e73b9b89",
   "metadata": {},
   "outputs": [
    {
     "name": "stdout",
     "output_type": "stream",
     "text": [
      "av_degree: 20\n",
      "av_degree: 19\n",
      "av_degree: 18\n",
      "av_degree: 17\n",
      "av_degree: 16\n",
      "av_degree: 15\n",
      "av_degree: 14\n",
      "av_degree: 13\n",
      "av_degree: 12\n",
      "av_degree: 11\n",
      "av_degree: 10\n",
      "av_degree: 9\n",
      "av_degree: 8\n",
      "av_degree: 7\n",
      "av_degree: 6\n",
      "av_degree: 5\n",
      "av_degree: 4\n",
      "av_degree: 3\n",
      "av_degree: 2\n"
     ]
    }
   ],
   "source": [
    "matrix_sigmas = []\n",
    "matrix_sigmas_line = []\n",
    "matrix_cu = []\n",
    "for i in range(20,1,-1):\n",
    "    print(\"av_degree:\", i)\n",
    "    N = 40\n",
    "    av_degree = i\n",
    "    list_sigmas = []\n",
    "    list_sigmas_line = []\n",
    "    list_cu = []\n",
    "    for j in range(0,100):\n",
    "        n_nodes = N\n",
    "        T = 15\n",
    "        m = int(av_degree/2) \n",
    "        G = nx.barabasi_albert_graph(n_nodes,m)\n",
    "        G.remove_edges_from(nx.selfloop_edges(G))\n",
    "        log = Logistic(epsilon = 0.01*j, T = T, a = 4, n_nodes = n_nodes,\n",
    "                       tau_zero = 5, graph = G)\n",
    "        mapas = log.run()\n",
    "        list_sigmas.append(log.Sigma())\n",
    "        list_sigmas_line.append(log.Sigma_line())\n",
    "        list_cu.append(log.TESTE_cu())\n",
    "    matrix_sigmas.append(list_sigmas)\n",
    "    matrix_sigmas_line.append(list_sigmas_line)\n",
    "    matrix_cu.append(list_cu)"
   ]
  },
  {
   "cell_type": "code",
   "execution_count": 4,
   "id": "9927db69",
   "metadata": {},
   "outputs": [
    {
     "data": {
      "image/png": "[encoded data removed]",
      "text/plain": [
       "<Figure size 432x288 with 2 Axes>"
      ]
     },
     "metadata": {
      "needs_background": "light"
     },
     "output_type": "display_data"
    }
   ],
   "source": [
    "epsilon_values = np.linspace(0,1,100)\n",
    "b_values = np.linspace(2,20,19)\n",
    "CS = plt.contourf(epsilon_values,b_values,matrix_cu, cmap = \"inferno\") #O eixo y ta trocado, é pra ser de 20 ate 2 \n",
    "                                                                           #e nao de 2 ate 20.\n",
    "cbar = plt.colorbar(CS)\n",
    "cbar.ax.set_ylabel(r\"$\\sigma^2$\", fontsize = 14)\n",
    "plt.xlabel(r\"$\\varepsilon$\", fontsize = 14)\n",
    "plt.ylabel(r'$\\langle b \\rangle$', fontsize = 14)\n",
    "# plt.savefig('sigma_WS_200nodes_blues.png', dpi = 150, bbox_inches = 'tight')\n",
    "plt.show()"
   ]
  },
  {
   "cell_type": "markdown",
   "id": "8c444a64",
   "metadata": {},
   "source": [
    "### LFR"
   ]
  },
  {
   "cell_type": "code",
   "execution_count": null,
   "id": "5916c2b9",
   "metadata": {},
   "outputs": [
    {
     "name": "stdout",
     "output_type": "stream",
     "text": [
      "Mu: 0.0\n",
      "Mu: 0.01\n",
      "Mu: 0.02\n"
     ]
    }
   ],
   "source": [
    "matrix_sigmas = []\n",
    "matrix_sigmas_line = []\n",
    "matrix_cu = []\n",
    "for i in range(0,100):\n",
    "    print(\"Mu:\", 0.01*i)\n",
    "    N = 120  #Number of nodes in the created graph.\n",
    "    gam = 3  #Power law exponent for the degree distribution of the created graph\n",
    "    bet = 1.5 #Power law exponent for the community size distribution in the created graph\n",
    "    mu = 0.01*i #Fraction of inter-community edges incident to each node\n",
    "    list_sigmas = []\n",
    "    list_sigmas_line = []\n",
    "    list_cu = []\n",
    "    G = nx.LFR_benchmark_graph(N, tau1=gam, tau2=bet, mu=mu, average_degree=6,max_degree=10,\n",
    "                                   min_community=30,max_community=30)\n",
    "    G.remove_edges_from(nx.selfloop_edges(G))\n",
    "    for j in range(0,100):\n",
    "        T = 10\n",
    "        n_nodes = N\n",
    "        log = Logistic(epsilon = 0.01*j, T = T, a = 4, n_nodes = n_nodes,\n",
    "                       tau_zero = 5, graph = G)\n",
    "        mapas = log.run()\n",
    "        list_cu.append(log.TESTE_cu())\n",
    "    matrix_cu.append(list_cu)"
   ]
  },
  {
   "cell_type": "code",
   "execution_count": null,
   "id": "2551b6da",
   "metadata": {},
   "outputs": [],
   "source": [
    "epsilon_values = np.linspace(0,1,100)\n",
    "mu_values = np.linspace(0,1,100)\n",
    "CS = plt.contourf(epsilon_values,mu_values,matrix_cu, cmap = \"Blues\") #O eixo y ta trocado, é pra ser de 20 ate 2 \n",
    "                                                                           #e nao de 2 ate 20.\n",
    "cbar = plt.colorbar(CS)\n",
    "cbar.ax.set_ylabel(r\"$\\sigma^2$\", fontsize = 14)\n",
    "plt.xlabel(r\"$\\varepsilon$\", fontsize = 14)\n",
    "plt.ylabel(r'$\\mu$', fontsize = 14)\n",
    "# plt.savefig('sigma_communities_1000nodes_teste2.png', dpi = 150, bbox_inches = 'tight')\n",
    "plt.show()"
   ]
  },
  {
   "cell_type": "code",
   "execution_count": null,
   "id": "f4ada9bd",
   "metadata": {},
   "outputs": [],
   "source": []
  }
 ],
 "metadata": {
  "kernelspec": {
   "display_name": "Python 3 (ipykernel)",
   "language": "python",
   "name": "python3"
  },
  "language_info": {
   "codemirror_mode": {
    "name": "ipython",
    "version": 3
   },
   "file_extension": ".py",
   "mimetype": "text/x-python",
   "name": "python",
   "nbconvert_exporter": "python",
   "pygments_lexer": "ipython3",
   "version": "3.9.12"
  }
 },
 "nbformat": 4,
 "nbformat_minor": 5
}
